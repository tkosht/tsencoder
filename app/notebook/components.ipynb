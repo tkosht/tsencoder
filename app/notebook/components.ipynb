{
 "nbformat": 4,
 "nbformat_minor": 2,
 "metadata": {
  "language_info": {
   "name": "python",
   "codemirror_mode": {
    "name": "ipython",
    "version": 3
   },
   "version": "3.6.10-final"
  },
  "orig_nbformat": 2,
  "file_extension": ".py",
  "mimetype": "text/x-python",
  "name": "python",
  "npconvert_exporter": "python",
  "pygments_lexer": "ipython3",
  "version": 3,
  "kernelspec": {
   "name": "python361064biteab514773f42499bbd7b2472491b6f4f",
   "display_name": "Python 3.6.10 64-bit"
  }
 },
 "cells": [
  {
   "cell_type": "code",
   "execution_count": 1,
   "metadata": {},
   "outputs": [],
   "source": [
    "%matplotlib inline\n",
    "import pandas\n",
    "import numpy"
   ]
  },
  {
   "cell_type": "code",
   "execution_count": 6,
   "metadata": {},
   "outputs": [
    {
     "data": {
      "text/html": "<div>\n<style scoped>\n    .dataframe tbody tr th:only-of-type {\n        vertical-align: middle;\n    }\n\n    .dataframe tbody tr th {\n        vertical-align: top;\n    }\n\n    .dataframe thead th {\n        text-align: right;\n    }\n</style>\n<table border=\"1\" class=\"dataframe\">\n  <thead>\n    <tr style=\"text-align: right;\">\n      <th></th>\n      <th>ds</th>\n      <th>trend</th>\n      <th>yhat_lower</th>\n      <th>yhat_upper</th>\n      <th>trend_lower</th>\n      <th>trend_upper</th>\n      <th>Anzac Day</th>\n      <th>Anzac Day_lower</th>\n      <th>Anzac Day_upper</th>\n      <th>Auckland Anniversary Day</th>\n      <th>...</th>\n      <th>weekly</th>\n      <th>weekly_lower</th>\n      <th>weekly_upper</th>\n      <th>wind</th>\n      <th>wind_lower</th>\n      <th>wind_upper</th>\n      <th>yearly</th>\n      <th>yearly_lower</th>\n      <th>yearly_upper</th>\n      <th>yhat</th>\n    </tr>\n  </thead>\n  <tbody>\n    <tr>\n      <th>0</th>\n      <td>2016-01-01</td>\n      <td>1148.761245</td>\n      <td>36.091805</td>\n      <td>540.456430</td>\n      <td>1129.573585</td>\n      <td>1169.090639</td>\n      <td>0.0</td>\n      <td>0.0</td>\n      <td>0.0</td>\n      <td>0.0</td>\n      <td>...</td>\n      <td>-109.818039</td>\n      <td>-125.620723</td>\n      <td>-91.634159</td>\n      <td>-0.017480</td>\n      <td>-0.018671</td>\n      <td>-0.016307</td>\n      <td>-26.631796</td>\n      <td>-66.962017</td>\n      <td>11.286270</td>\n      <td>283.147002</td>\n    </tr>\n    <tr>\n      <th>1</th>\n      <td>2016-01-02</td>\n      <td>1148.975761</td>\n      <td>507.321899</td>\n      <td>1005.298770</td>\n      <td>1129.724759</td>\n      <td>1169.347413</td>\n      <td>0.0</td>\n      <td>0.0</td>\n      <td>0.0</td>\n      <td>0.0</td>\n      <td>...</td>\n      <td>83.795781</td>\n      <td>68.304658</td>\n      <td>99.809753</td>\n      <td>-0.115210</td>\n      <td>-0.123062</td>\n      <td>-0.107479</td>\n      <td>-15.626322</td>\n      <td>-55.105899</td>\n      <td>22.249820</td>\n      <td>746.809158</td>\n    </tr>\n    <tr>\n      <th>2</th>\n      <td>2016-01-03</td>\n      <td>1149.190277</td>\n      <td>940.284222</td>\n      <td>1415.131803</td>\n      <td>1129.875932</td>\n      <td>1169.602809</td>\n      <td>0.0</td>\n      <td>0.0</td>\n      <td>0.0</td>\n      <td>0.0</td>\n      <td>...</td>\n      <td>46.226894</td>\n      <td>30.059062</td>\n      <td>61.580879</td>\n      <td>-0.014131</td>\n      <td>-0.015094</td>\n      <td>-0.013183</td>\n      <td>-3.601765</td>\n      <td>-42.338277</td>\n      <td>34.526931</td>\n      <td>1179.378273</td>\n    </tr>\n  </tbody>\n</table>\n<p>3 rows × 70 columns</p>\n</div>",
      "text/plain": "           ds        trend  yhat_lower   yhat_upper  trend_lower  trend_upper  \\\n0  2016-01-01  1148.761245   36.091805   540.456430  1129.573585  1169.090639   \n1  2016-01-02  1148.975761  507.321899  1005.298770  1129.724759  1169.347413   \n2  2016-01-03  1149.190277  940.284222  1415.131803  1129.875932  1169.602809   \n\n   Anzac Day  Anzac Day_lower  Anzac Day_upper  Auckland Anniversary Day  ...  \\\n0        0.0              0.0              0.0                       0.0  ...   \n1        0.0              0.0              0.0                       0.0  ...   \n2        0.0              0.0              0.0                       0.0  ...   \n\n       weekly  weekly_lower  weekly_upper      wind  wind_lower  wind_upper  \\\n0 -109.818039   -125.620723    -91.634159 -0.017480   -0.018671   -0.016307   \n1   83.795781     68.304658     99.809753 -0.115210   -0.123062   -0.107479   \n2   46.226894     30.059062     61.580879 -0.014131   -0.015094   -0.013183   \n\n      yearly  yearly_lower  yearly_upper         yhat  \n0 -26.631796    -66.962017     11.286270   283.147002  \n1 -15.626322    -55.105899     22.249820   746.809158  \n2  -3.601765    -42.338277     34.526931  1179.378273  \n\n[3 rows x 70 columns]"
     },
     "execution_count": 6,
     "metadata": {},
     "output_type": "execute_result"
    }
   ],
   "source": [
    "forecasted_df = pandas.read_csv(\"../data/forecasted_exog.tsv\", sep=\"\\t\", header=0)\n",
    "forecasted_df.head(3)"
   ]
  },
  {
   "cell_type": "code",
   "execution_count": null,
   "metadata": {},
   "outputs": [],
   "source": []
  }
 ]
}