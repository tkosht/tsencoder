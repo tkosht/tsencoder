{
 "nbformat": 4,
 "nbformat_minor": 2,
 "metadata": {
  "language_info": {
   "name": "python",
   "codemirror_mode": {
    "name": "ipython",
    "version": 3
   },
   "version": "3.6.10-final"
  },
  "orig_nbformat": 2,
  "file_extension": ".py",
  "mimetype": "text/x-python",
  "name": "python",
  "npconvert_exporter": "python",
  "pygments_lexer": "ipython3",
  "version": 3,
  "kernelspec": {
   "name": "python361064bit25415185457e470286df7949fb0ce76f",
   "display_name": "Python 3.6.10 64-bit"
  }
 },
 "cells": [
  {
   "cell_type": "code",
   "execution_count": 1,
   "metadata": {},
   "outputs": [],
   "source": [
    "%matplotlib inline\n",
    "import numpy\n",
    "import pandas"
   ]
  },
  {
   "cell_type": "code",
   "execution_count": 2,
   "metadata": {},
   "outputs": [
    {
     "data": {
      "text/html": "<div>\n<style scoped>\n    .dataframe tbody tr th:only-of-type {\n        vertical-align: middle;\n    }\n\n    .dataframe tbody tr th {\n        vertical-align: top;\n    }\n\n    .dataframe thead th {\n        text-align: right;\n    }\n</style>\n<table border=\"1\" class=\"dataframe\">\n  <thead>\n    <tr style=\"text-align: right;\">\n      <th></th>\n      <th>ds</th>\n    </tr>\n    <tr>\n      <th>ds</th>\n      <th></th>\n    </tr>\n  </thead>\n  <tbody>\n    <tr>\n      <th>2017-01-01</th>\n      <td>2017-01-01</td>\n    </tr>\n    <tr>\n      <th>2017-01-02</th>\n      <td>2017-01-02</td>\n    </tr>\n    <tr>\n      <th>2017-01-03</th>\n      <td>2017-01-03</td>\n    </tr>\n  </tbody>\n</table>\n</div>",
      "text/plain": "                   ds\nds                   \n2017-01-01 2017-01-01\n2017-01-02 2017-01-02\n2017-01-03 2017-01-03"
     },
     "execution_count": 2,
     "metadata": {},
     "output_type": "execute_result"
    }
   ],
   "source": [
    " future_date = pandas.date_range(\"2017-01-01\", \"2018-12-31\", freq=\"D\", name=\"ds\").to_frame()\n",
    " future_date.head(3)"
   ]
  },
  {
   "cell_type": "code",
   "execution_count": 5,
   "metadata": {},
   "outputs": [
    {
     "data": {
      "text/plain": "pandas._libs.tslibs.timestamps.Timestamp"
     },
     "execution_count": 5,
     "metadata": {},
     "output_type": "execute_result"
    }
   ],
   "source": [
    "t = future_date.ds.iloc[0]\n",
    "type(t)"
   ]
  },
  {
   "cell_type": "code",
   "execution_count": 7,
   "metadata": {},
   "outputs": [
    {
     "data": {
      "text/plain": "datetime.datetime(2017, 1, 1, 0, 0)"
     },
     "execution_count": 7,
     "metadata": {},
     "output_type": "execute_result"
    }
   ],
   "source": [
    "t.to_pydatetime()\n"
   ]
  },
  {
   "cell_type": "code",
   "execution_count": 31,
   "metadata": {},
   "outputs": [
    {
     "name": "stdout",
     "output_type": "stream",
     "text": "2017-01-01 00:00:00 2018-12-31 00:00:00\n"
    },
    {
     "data": {
      "text/plain": "DatetimeIndex(['2017-01-31', '2017-07-31', '2018-01-31', '2018-07-31'], dtype='datetime64[ns]', freq='6M')"
     },
     "execution_count": 31,
     "metadata": {},
     "output_type": "execute_result"
    }
   ],
   "source": [
    "import datetime\n",
    "s = future_date.ds.iloc[0]\n",
    "e = future_date.ds.iloc[-1]\n",
    "print(s, e)\n",
    "t = pandas.date_range(s, e, freq=\"6M\")\n",
    "t"
   ]
  },
  {
   "cell_type": "code",
   "execution_count": 33,
   "metadata": {},
   "outputs": [],
   "source": [
    "from dateutil.relativedelta import relativedelta\n",
    "ee = t[-1] + relativedelta(months=6)"
   ]
  },
  {
   "cell_type": "code",
   "execution_count": 45,
   "metadata": {},
   "outputs": [],
   "source": [
    "tt = pandas.Series(t).append(pandas.Series(ee))\n"
   ]
  },
  {
   "cell_type": "code",
   "execution_count": 54,
   "metadata": {},
   "outputs": [
    {
     "name": "stdout",
     "output_type": "stream",
     "text": "2017/31/01 2017/31/07\n2017/31/07 2018/31/01\n2018/31/01 2018/31/07\n2018/31/07 2019/31/01\n"
    }
   ],
   "source": [
    "for s, e in zip(tt[:-1], tt[1:]):\n",
    "    s = s.strftime(\"%Y/%d/%m\")\n",
    "    e = e.strftime(\"%Y/%d/%m\")\n",
    "    print(s, e)"
   ]
  },
  {
   "cell_type": "code",
   "execution_count": null,
   "metadata": {},
   "outputs": [],
   "source": []
  },
  {
   "cell_type": "code",
   "execution_count": null,
   "metadata": {},
   "outputs": [],
   "source": [
    "future_date.columns"
   ]
  },
  {
   "cell_type": "code",
   "execution_count": null,
   "metadata": {},
   "outputs": [],
   "source": [
    "data_df = pandas.read_csv(\"../data/data.tsv\", sep=\"\\t\", header=0, index_col=\"datetime\", parse_dates=True)\n",
    "data_df.head()\n"
   ]
  },
  {
   "cell_type": "code",
   "execution_count": null,
   "metadata": {},
   "outputs": [],
   "source": [
    "data_df.index"
   ]
  },
  {
   "cell_type": "code",
   "execution_count": null,
   "metadata": {},
   "outputs": [],
   "source": [
    "data_df.rename(columns=dict(datetime=\"ds\"), inplace=True)\n",
    "data_df.head()"
   ]
  },
  {
   "cell_type": "code",
   "execution_count": null,
   "metadata": {},
   "outputs": [],
   "source": [
    "pandas.to_datetime([\"2017-01-01\"])"
   ]
  },
  {
   "cell_type": "code",
   "execution_count": null,
   "metadata": {},
   "outputs": [],
   "source": []
  },
  {
   "cell_type": "code",
   "execution_count": 5,
   "metadata": {},
   "outputs": [
    {
     "data": {
      "text/html": "<div>\n<style scoped>\n    .dataframe tbody tr th:only-of-type {\n        vertical-align: middle;\n    }\n\n    .dataframe tbody tr th {\n        vertical-align: top;\n    }\n\n    .dataframe thead th {\n        text-align: right;\n    }\n</style>\n<table border=\"1\" class=\"dataframe\">\n  <thead>\n    <tr style=\"text-align: right;\">\n      <th></th>\n      <th>y</th>\n      <th>temp</th>\n      <th>rain</th>\n      <th>sun</th>\n      <th>wind</th>\n    </tr>\n    <tr>\n      <th>ds</th>\n      <th></th>\n      <th></th>\n      <th></th>\n      <th></th>\n      <th></th>\n    </tr>\n  </thead>\n  <tbody>\n    <tr>\n      <th>2013-01-01</th>\n      <td>1163.0</td>\n      <td>20.000000</td>\n      <td>0.000000</td>\n      <td>0.950000</td>\n      <td>6.100000</td>\n    </tr>\n    <tr>\n      <th>2013-01-02</th>\n      <td>1112.0</td>\n      <td>20.342857</td>\n      <td>0.000000</td>\n      <td>0.535714</td>\n      <td>4.428571</td>\n    </tr>\n    <tr>\n      <th>2013-01-03</th>\n      <td>527.0</td>\n      <td>16.278571</td>\n      <td>0.228571</td>\n      <td>0.014286</td>\n      <td>4.728571</td>\n    </tr>\n  </tbody>\n</table>\n</div>",
      "text/plain": "                 y       temp      rain       sun      wind\nds                                                         \n2013-01-01  1163.0  20.000000  0.000000  0.950000  6.100000\n2013-01-02  1112.0  20.342857  0.000000  0.535714  4.428571\n2013-01-03   527.0  16.278571  0.228571  0.014286  4.728571"
     },
     "execution_count": 5,
     "metadata": {},
     "output_type": "execute_result"
    }
   ],
   "source": [
    "df = pandas.read_csv(\"../data/data.tsv\", sep=\"\\t\", index_col=\"datetime\", parse_dates=True)\n",
    "df.index.name = \"ds\"\n",
    "df.head(3)"
   ]
  },
  {
   "cell_type": "code",
   "execution_count": 23,
   "metadata": {},
   "outputs": [
    {
     "data": {
      "text/plain": "y       6547.000000\ntemp     113.928571\nrain       0.228571\nsun        3.592857\nwind      36.435714\ndtype: float64"
     },
     "execution_count": 23,
     "metadata": {},
     "output_type": "execute_result"
    }
   ],
   "source": [
    "df[\"2013-01-01\":\"2013-01-06\"].sum()"
   ]
  },
  {
   "cell_type": "code",
   "execution_count": 24,
   "metadata": {},
   "outputs": [
    {
     "data": {
      "text/plain": "y       9526.000000\ntemp     150.642857\nrain       0.000000\nsun        4.078571\nwind      44.078571\ndtype: float64"
     },
     "execution_count": 24,
     "metadata": {},
     "output_type": "execute_result"
    }
   ],
   "source": [
    "df[\"2013-01-07\":\"2013-01-13\"].sum()"
   ]
  },
  {
   "cell_type": "code",
   "execution_count": 26,
   "metadata": {},
   "outputs": [
    {
     "data": {
      "text/plain": "y       8452.000000\ntemp     134.057143\nrain       0.085714\nsun        2.692857\nwind      57.814286\ndtype: float64"
     },
     "execution_count": 26,
     "metadata": {},
     "output_type": "execute_result"
    }
   ],
   "source": [
    "df[\"2013-01-14\":\"2013-01-20\"].sum()"
   ]
  },
  {
   "cell_type": "code",
   "execution_count": 27,
   "metadata": {},
   "outputs": [
    {
     "data": {
      "text/html": "<div>\n<style scoped>\n    .dataframe tbody tr th:only-of-type {\n        vertical-align: middle;\n    }\n\n    .dataframe tbody tr th {\n        vertical-align: top;\n    }\n\n    .dataframe thead th {\n        text-align: right;\n    }\n</style>\n<table border=\"1\" class=\"dataframe\">\n  <thead>\n    <tr style=\"text-align: right;\">\n      <th></th>\n      <th>y</th>\n      <th>temp</th>\n      <th>rain</th>\n      <th>sun</th>\n      <th>wind</th>\n    </tr>\n    <tr>\n      <th>ds</th>\n      <th></th>\n      <th></th>\n      <th></th>\n      <th></th>\n      <th></th>\n    </tr>\n  </thead>\n  <tbody>\n    <tr>\n      <th>2012-12-31</th>\n      <td>6547.0</td>\n      <td>113.928571</td>\n      <td>0.228571</td>\n      <td>3.592857</td>\n      <td>36.435714</td>\n    </tr>\n    <tr>\n      <th>2013-01-07</th>\n      <td>9526.0</td>\n      <td>150.642857</td>\n      <td>0.000000</td>\n      <td>4.078571</td>\n      <td>44.078571</td>\n    </tr>\n    <tr>\n      <th>2013-01-14</th>\n      <td>8452.0</td>\n      <td>134.057143</td>\n      <td>0.085714</td>\n      <td>2.692857</td>\n      <td>57.814286</td>\n    </tr>\n  </tbody>\n</table>\n</div>",
      "text/plain": "                 y        temp      rain       sun       wind\nds                                                           \n2012-12-31  6547.0  113.928571  0.228571  3.592857  36.435714\n2013-01-07  9526.0  150.642857  0.000000  4.078571  44.078571\n2013-01-14  8452.0  134.057143  0.085714  2.692857  57.814286"
     },
     "execution_count": 27,
     "metadata": {},
     "output_type": "execute_result"
    }
   ],
   "source": [
    "weekly_df = df.resample(\"W-MON\", label=\"left\", closed=\"left\").sum()\n",
    "weekly_df.head(3)"
   ]
  },
  {
   "cell_type": "code",
   "execution_count": null,
   "metadata": {},
   "outputs": [],
   "source": []
  },
  {
   "cell_type": "code",
   "execution_count": null,
   "metadata": {},
   "outputs": [],
   "source": []
  },
  {
   "cell_type": "code",
   "execution_count": null,
   "metadata": {},
   "outputs": [],
   "source": []
  },
  {
   "cell_type": "code",
   "execution_count": null,
   "metadata": {},
   "outputs": [],
   "source": []
  },
  {
   "cell_type": "code",
   "execution_count": null,
   "metadata": {},
   "outputs": [],
   "source": []
  },
  {
   "cell_type": "code",
   "execution_count": null,
   "metadata": {},
   "outputs": [],
   "source": []
  }
 ]
}